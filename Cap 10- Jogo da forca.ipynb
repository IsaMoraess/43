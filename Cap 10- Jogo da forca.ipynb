{
 "cells": [
  {
   "cell_type": "code",
   "execution_count": null,
   "id": "f5b9b873",
   "metadata": {},
   "outputs": [
    {
     "name": "stdout",
     "output_type": "stream",
     "text": [
      "Bem-vindo ao Jogo da Forca!\n",
      "Palavra: _____\n",
      "Digite uma letra: A\n",
      "Letra não encontrada. Você tem 5 tentativas restantes.\n",
      "Palavra: _____\n",
      "Digite uma letra: o\n",
      "Palavra: _o_o_\n",
      "Digite uma letra: j\n",
      "Palavra: jo_o_\n",
      "Digite uma letra: g\n",
      "Palavra: jogo_\n",
      "Digite uma letra: s\n",
      "Palavra: jogos\n"
     ]
    }
   ],
   "source": [
    "import random\n",
    "\n",
    "palavras = [\"python\", \"programacao\", \"jogos\", \"divertido\", \"computador\"]\n",
    "palavra = random.choice(palavras)\n",
    "tentativas = 6\n",
    "letras_corretas = []\n",
    "\n",
    "print(\"Bem-vindo ao Jogo da Forca!\")\n",
    "\n",
    "while tentativas > 0:\n",
    "    palavra_mascarada = \"\"\n",
    "    for letra in palavra:\n",
    "        if letra in letras_corretas:\n",
    "            palavra_mascarada += letra\n",
    "        else:\n",
    "            palavra_mascarada += \"_\"\n",
    "\n",
    "    print(f\"Palavra: {palavra_mascarada}\")\n",
    "    tentativa = input(\"Digite uma letra: \").lower()\n",
    "\n",
    "    if tentativa in palavra:\n",
    "        letras_corretas.append(tentativa)\n",
    "    else:\n",
    "        tentativas -= 1\n",
    "        print(f\"Letra não encontrada. Você tem {tentativas} tentativas restantes.\")\n",
    "\n",
    "    if palavra_mascarada == palavra:\n",
    "        print(f\"Parabéns! Você adivinhou a palavra: '{palavra}'.\")\n",
    "        break\n",
    "\n",
    "if tentativas == 0:\n",
    "    print(f\"Fim de jogo. A palavra era '{palavra}'.\")\n"
   ]
  },
  {
   "cell_type": "code",
   "execution_count": null,
   "id": "3194750b",
   "metadata": {},
   "outputs": [],
   "source": []
  }
 ],
 "metadata": {
  "kernelspec": {
   "display_name": "Python 3 (ipykernel)",
   "language": "python",
   "name": "python3"
  },
  "language_info": {
   "codemirror_mode": {
    "name": "ipython",
    "version": 3
   },
   "file_extension": ".py",
   "mimetype": "text/x-python",
   "name": "python",
   "nbconvert_exporter": "python",
   "pygments_lexer": "ipython3",
   "version": "3.9.13"
  }
 },
 "nbformat": 4,
 "nbformat_minor": 5
}
